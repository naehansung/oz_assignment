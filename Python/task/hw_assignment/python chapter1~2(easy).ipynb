{
 "cells": [
  {
   "cell_type": "markdown",
   "id": "5ce5aa2babe14282",
   "metadata": {},
   "source": [
    "# 파이썬 1~2일차 쪽지시험"
   ]
  },
  {
   "cell_type": "markdown",
   "id": "136e2d85abe685b9",
   "metadata": {},
   "source": [
    "## 문제 1\n",
    "### 오즈코딩스쿨에서 코딩을 처음 시작한 박상훈!\n",
    "### 박상훈에게는 덩치, 애기라는 도마뱀이 있습니다.\n",
    "### 도마뱀의 나이는 각각 1살 2살 입니다.\n",
    "### 각 도마뱀의 이름으로 변수를 선언하고 각 도마뱀의 나이를 할당해주세요!!"
   ]
  },
  {
   "cell_type": "code",
   "execution_count": 1,
   "id": "8e5a1ab9c30b38a7",
   "metadata": {},
   "outputs": [],
   "source": [
    "big_baby = 1 # 덩치 또는 빅베이비는 1살입니다\n",
    "small_baby = 2 # 애기 또는 스몰베이비는 2살입니다 "
   ]
  },
  {
   "cell_type": "markdown",
   "id": "94e68ef24ba3e5f7",
   "metadata": {},
   "source": [
    "## 문제 2\n",
    "### 박상훈의 `도마뱀 변수`들을 사용하여 `도마뱀 리스트`를 만들어 주세요!"
   ]
  },
  {
   "cell_type": "code",
   "execution_count": 2,
   "id": "b8334aff8ce27138",
   "metadata": {},
   "outputs": [],
   "source": [
    "lizards = [big_baby, small_baby]"
   ]
  },
  {
   "cell_type": "markdown",
   "id": "454fe842db180fc",
   "metadata": {},
   "source": [
    "## 문제 3\n",
    "### 박상훈이 도마뱀을 새로 샀어요!\n",
    "### 도마뱀의 이름은 마고, 나이는 2살이에요!\n",
    "### `도마뱀 리스트`에 가장 끝에 추가해주세요!!"
   ]
  },
  {
   "cell_type": "code",
   "execution_count": 3,
   "id": "3ec1ef1be2927b78",
   "metadata": {},
   "outputs": [],
   "source": [
    "Ma = 2 \n",
    "lizards.append(Ma)"
   ]
  },
  {
   "cell_type": "markdown",
   "id": "20ccbdf20f857d13",
   "metadata": {},
   "source": [
    "## 문제 4\n",
    "### 박상훈의 도마뱀들의 나이를 더해 주세요!!"
   ]
  },
  {
   "cell_type": "code",
   "execution_count": 5,
   "id": "3ebc179d264d3866",
   "metadata": {},
   "outputs": [
    {
     "name": "stdout",
     "output_type": "stream",
     "text": [
      "Total age of all the lizards is 5\n"
     ]
    }
   ],
   "source": [
    "total_age = sum(lizards)\n",
    "print(\"Total age of all the lizards is\", total_age)"
   ]
  },
  {
   "cell_type": "markdown",
   "id": "eea768f4f558a28a",
   "metadata": {},
   "source": [
    "## 문제 5\n",
    "### 박상훈의 `도마뱀 리스트`를 사용하여 \"사육장\"이라는 딕셔너리를 만들어주세요!"
   ]
  },
  {
   "cell_type": "code",
   "execution_count": 7,
   "id": "49874bd7d6ee7c2d",
   "metadata": {},
   "outputs": [],
   "source": [
    "stud_farm = {\"Big Baby\": big_baby, \"Small Baby\": small_baby, \"Ma\": Ma}"
   ]
  },
  {
   "cell_type": "markdown",
   "id": "a7b973b398f00642",
   "metadata": {},
   "source": [
    "## 문제 6\n",
    "### 사육장 딕셔너리를 `key, value` 형태로 출력해주세요!"
   ]
  },
  {
   "cell_type": "code",
   "execution_count": 9,
   "id": "94544cb2f847228f",
   "metadata": {},
   "outputs": [
    {
     "name": "stdout",
     "output_type": "stream",
     "text": [
      "Big Baby: 1.0 years old\n",
      "Small Baby: 2.0 years old\n",
      "Ma: 2.0 years old\n"
     ]
    }
   ],
   "source": [
    "for name, age in stud_farm.items():\n",
    "  print(f\"{name}: {float(age)} years old\")"
   ]
  },
  {
   "cell_type": "markdown",
   "id": "fec443543704aada",
   "metadata": {},
   "source": []
  },
  {
   "cell_type": "markdown",
   "id": "a9aa1a28e60e6bf8",
   "metadata": {},
   "source": [
    "## 문제 7\n",
    "### 도마뱀들의 나이를 `실수형태`로 출력해주세요!"
   ]
  },
  {
   "cell_type": "code",
   "execution_count": 11,
   "id": "2183407c40686977",
   "metadata": {},
   "outputs": [
    {
     "name": "stdout",
     "output_type": "stream",
     "text": [
      "Big Baby is 1.0 years old.\n",
      "Small Baby is 2.0 years old.\n",
      "Ma is 2.0 years old.\n"
     ]
    }
   ],
   "source": [
    "for name, age in stud_farm.items():\n",
    "    print(f\"{name} is {float(age)} years old.\")"
   ]
  },
  {
   "cell_type": "markdown",
   "id": "43428aabdee55513",
   "metadata": {},
   "source": [
    "## 문제 8\n",
    "### 1년이 지났습니다.\n",
    "### 도마뱀들이 1살씩 나이를 먹었어요\n",
    "### 도마뱀들의 나이를 바꿔주세요!"
   ]
  },
  {
   "cell_type": "code",
   "execution_count": 12,
   "id": "286dc862809e7e80",
   "metadata": {},
   "outputs": [
    {
     "name": "stdout",
     "output_type": "stream",
     "text": [
      "{'Big Baby': 2, 'Small Baby': 3, 'Ma': 3}\n"
     ]
    }
   ],
   "source": [
    "for name in stud_farm:\n",
    "  stud_farm[name] += 1 \n",
    "  \n",
    "print(stud_farm)"
   ]
  },
  {
   "cell_type": "markdown",
   "id": "ed5d1e1503e37223",
   "metadata": {},
   "source": [
    "## 문제 9\n",
    "### n년이 지났을 때 도마뱀의 나이가 알고 싶어 졌어요!!\n",
    "### `input` 을 이용해서 n년차 도마뱀들의 나이를 출력해주세요!"
   ]
  },
  {
   "cell_type": "code",
   "execution_count": 14,
   "id": "7a8db95dd6192d42",
   "metadata": {},
   "outputs": [
    {
     "name": "stdout",
     "output_type": "stream",
     "text": [
      "The age of Big Baby is 1 years old. \n"
     ]
    }
   ],
   "source": [
    "n = int(input(\"Enter the number of each lizard (1,2, or 3): \")) -1\n",
    "lizard_names = list(stud_farm.keys())\n",
    "\n",
    "print(f\"The age of {lizard_names[n]} is {lizards[n]} years old. \")"
   ]
  },
  {
   "cell_type": "markdown",
   "id": "3e3fd38bd44d9b2e",
   "metadata": {},
   "source": [
    "## 문제 10\n",
    "### 5년이 지났습니다\n",
    "### 우리 도마뱀들이 너무 커서 사육장을 분리해야해요!\n",
    "### 딕셔너리로 나누었던 것을 사육장1, 2, 3 `리스트`로 변경하고\n",
    "### 각 도마뱀들을 넣어주세요!"
   ]
  },
  {
   "cell_type": "code",
   "execution_count": 15,
   "id": "95ad0c7878164214",
   "metadata": {},
   "outputs": [
    {
     "name": "stdout",
     "output_type": "stream",
     "text": [
      "['big_baby', 'small_baby', 'Ma']\n"
     ]
    }
   ],
   "source": [
    "stud_farm = [\"big_baby\", \"small_baby\", \"Ma\"]\n",
    "print(stud_farm)"
   ]
  },
  {
   "cell_type": "markdown",
   "id": "e9add10bf3ea4774",
   "metadata": {},
   "source": []
  }
 ],
 "metadata": {
  "kernelspec": {
   "display_name": "Python 3",
   "language": "python",
   "name": "python3"
  },
  "language_info": {
   "codemirror_mode": {
    "name": "ipython",
    "version": 3
   },
   "file_extension": ".py",
   "mimetype": "text/x-python",
   "name": "python",
   "nbconvert_exporter": "python",
   "pygments_lexer": "ipython3",
   "version": "3.12.6"
  }
 },
 "nbformat": 4,
 "nbformat_minor": 5
}
